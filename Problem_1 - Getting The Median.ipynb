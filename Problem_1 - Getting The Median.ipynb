{
 "cells": [
  {
   "cell_type": "code",
   "execution_count": null,
   "metadata": {},
   "outputs": [],
   "source": [
    "def median(li):\n",
    "    # Step 1: Sort the list in ascending order\n",
    "    li = sorted(li)\n",
    "\n",
    "    # Step 2: Find the length of the sorted list\n",
    "    n = len(li)\n",
    "\n",
    "    # Step 3: Check if the length of the list is even\n",
    "    if n % 2 == 0:\n",
    "        # Step 3.1: Calculate the index of the right middle element\n",
    "        mid_right = n // 2\n",
    "        \n",
    "        # Step 3.2: Calculate the index of the left middle element\n",
    "        mid_left = mid_right - 1\n",
    "        \n",
    "        # Step 3.3: Calculate the average of the two middle elements (for even-length lists)\n",
    "        result = (li[mid_left] + li[mid_right]) / 2\n",
    "    else:\n",
    "        # Step 4: If the list has an odd number of elements, find the middle element\n",
    "        mid = n // 2\n",
    "        \n",
    "        # Step 4.1: Assign the middle element as the median\n",
    "        result = li[mid]\n",
    "\n",
    "    # Step 5: Return the result (median)\n",
    "    return result"
   ]
  }
 ],
 "metadata": {
  "language_info": {
   "name": "python"
  }
 },
 "nbformat": 4,
 "nbformat_minor": 2
}
